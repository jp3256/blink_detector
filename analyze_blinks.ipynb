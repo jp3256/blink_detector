{
  "nbformat": 4,
  "nbformat_minor": 0,
  "metadata": {
    "colab": {
      "name": "analyze_blinks.ipynb",
      "provenance": [],
      "collapsed_sections": [],
      "authorship_tag": "ABX9TyNudAO0Yb0aS4LDoK9c1doz",
      "include_colab_link": true
    },
    "kernelspec": {
      "name": "python3",
      "display_name": "Python 3"
    }
  },
  "cells": [
    {
      "cell_type": "markdown",
      "metadata": {
        "id": "view-in-github",
        "colab_type": "text"
      },
      "source": [
        "<a href=\"https://colab.research.google.com/github/jp3256/blink_detector/blob/main/analyze_blinks.ipynb\" target=\"_parent\"><img src=\"https://colab.research.google.com/assets/colab-badge.svg\" alt=\"Open In Colab\"/></a>"
      ]
    },
    {
      "cell_type": "code",
      "metadata": {
        "id": "iyH8DNq9enII",
        "outputId": "82df533f-4496-4377-e712-68fa3061b5f7",
        "colab": {
          "base_uri": "https://localhost:8080/",
          "height": 34
        }
      },
      "source": [
        "# connect to google drive folder\n",
        "from google.colab import drive\n",
        "import glob\n",
        "drive.mount('/content/drive')\n",
        "file_directory1 = '/content/drive/My Drive/Applied Research/data/final_study/batch1/'\n",
        "file_directory2 = '/content/drive/My Drive/Applied Research/data/final_study/batch2/'\n",
        "file_directory3 = '/content/drive/My Drive/Applied Research/data/final_study/batch3/'\n",
        "metadata_directory = '/content/drive/My Drive/Applied Research/data/metadata/'\n",
        "\n",
        "# import the necessary packages\n",
        "import matplotlib.pyplot as plt\n",
        "import numpy as np\n",
        "import pandas as pd\n",
        "import time\n",
        "import re"
      ],
      "execution_count": 1,
      "outputs": [
        {
          "output_type": "stream",
          "text": [
            "Drive already mounted at /content/drive; to attempt to forcibly remount, call drive.mount(\"/content/drive\", force_remount=True).\n"
          ],
          "name": "stdout"
        }
      ]
    },
    {
      "cell_type": "code",
      "metadata": {
        "id": "ws2nyRCSe0dA"
      },
      "source": [
        "# load batch dataset\n",
        "df_batch1 = pd.read_csv(file_directory1 + 'batch_results_ear_0_25.csv', index_col=0)\n",
        "df_batch2 = pd.read_csv(file_directory2 + 'batch_results_ear_0_25.csv', index_col=0)\n",
        "df_batch3 = pd.read_csv(file_directory3 + 'batch_results.csv', index_col=0)\n",
        "\n",
        "# sort by group number\n",
        "df_batch1.sort_values(by='group_number', inplace=True)\n",
        "df_batch2.sort_values(by='group_number', inplace=True)\n",
        "df_batch3.sort_values(by='group_number', inplace=True)\n",
        "\n",
        "# rename columns (fix typo)\n",
        "df_batch1.rename(columns={\"condiiton\": \"condition\"}, inplace=True)\n",
        "df_batch2.rename(columns={\"condiiton\": \"condition\"}, inplace=True)\n",
        "\n",
        "# convert role to lowercase\n",
        "df_batch1['role'] = df_batch1['role'].apply(lambda x: x.lower() if type(x)==str else x)\n",
        "df_batch2['role'] = df_batch2['role'].apply(lambda x: x.lower() if type(x)==str else x)\n",
        "df_batch3['role'] = df_batch3['role'].apply(lambda x: x.lower() if type(x)==str else x)\n",
        "\n",
        "# fill missing role information\n",
        "df_batch1['role'] = np.where(df_batch1.role.isna(), 'w', df_batch1.role)"
      ],
      "execution_count": 2,
      "outputs": []
    },
    {
      "cell_type": "code",
      "metadata": {
        "id": "Ckd4ThCSgsKR",
        "outputId": "cd64ad20-2e4f-470b-cf7b-c7a9daaedbe7",
        "colab": {
          "base_uri": "https://localhost:8080/",
          "height": 204
        }
      },
      "source": [
        "df_batch1.sort_values(by='number_blinks', ascending=True).head()\n",
        "\n",
        "## BATCH 1\n",
        "#group 106 w: eyes outside frame\n",
        "#group 106 nw: CHECK - redo with new threshold 0.25?\n",
        "#group 107 w: CHECK - redo with new threshold 0.25?\n",
        "#group 120 nw: looks sideways\n",
        "#group 123 nw: CHECK - redo with new threshold 0.25?\n",
        "#group 123 w: eyes outside frame\n",
        "#group 131 w: eyes on edge of frame\n",
        "#group 137 nw: eyes too close to edge\n",
        "#group 147 nw: out of frame\n",
        "#group 147 w: CHECK - redo with new threshold 0.25?\n",
        "#group 153 nw: CHECK - redo with new threshold 0.25?\n",
        "#group 156 nw: face angle\n",
        "#group 158 nw: out of frame\n",
        "\n",
        "## BATCH 2\n",
        "#group 219 nw: might want to exclude - false detection due to small eyes\n",
        "#group 173 nw: face sideways\n",
        "#group 194 nw: eyes on edge of frame\n",
        "#group 215 nw: can't detect eyes due to lighting & hat\n",
        "#group 197 nw: CHECK - redo with new threshold 0.25?\n",
        "#group 211 nw: poor lighting - can't detect eyes\n",
        "#group 185 nw: CHECK - redo with new threshold 0.25?\n",
        "#group 169 nw: CHECK - redo with new threshold 0.25?\n",
        "#group 170 w: CHECK - redo with new threshold 0.25?\n",
        "#group 212 nw: face looking sideways/out of frame\n",
        "#group 181 nw: face looking sideways\n",
        "#group 172 nw: face looking sideways\n",
        "#group 168 w: CHECK - redo with new threshold 0.25?\n",
        "#group 206 nw: poor lighting, out of frame\n",
        "#group 220 nw: CHECK - redo with new threshold 0.25?\n",
        "#group 174 w: CHECK - redo with new threshold 0.25?\n",
        "\n",
        "## BATCH 3\n",
        "#group 224 w: CHECK - false detection due to small eyes?\n",
        "#group 260 nw: CHECK\n",
        "#group 277 w: CHECK\n",
        "#group 257 nw: poor lighting\n",
        "#group 277 nw: poor lighting, hair covering face, face angle\n",
        "#group 248 nw: CHECK\n",
        "#group 276 nw: face angle, out of frame\n",
        "#group 273 w: CHECK\n",
        "#group 233 nw: CHECK\n",
        "#group 244 nw: CHECK\n",
        "#group 268 nw: CHECK - poor eye detection due to reflection on glasses\n",
        "#group 229 nw: CHECK\n",
        "#group 229 w: CHECK"
      ],
      "execution_count": 3,
      "outputs": [
        {
          "output_type": "execute_result",
          "data": {
            "text/html": [
              "<div>\n",
              "<style scoped>\n",
              "    .dataframe tbody tr th:only-of-type {\n",
              "        vertical-align: middle;\n",
              "    }\n",
              "\n",
              "    .dataframe tbody tr th {\n",
              "        vertical-align: top;\n",
              "    }\n",
              "\n",
              "    .dataframe thead th {\n",
              "        text-align: right;\n",
              "    }\n",
              "</style>\n",
              "<table border=\"1\" class=\"dataframe\">\n",
              "  <thead>\n",
              "    <tr style=\"text-align: right;\">\n",
              "      <th></th>\n",
              "      <th>group_number</th>\n",
              "      <th>condition</th>\n",
              "      <th>role</th>\n",
              "      <th>number_blinks</th>\n",
              "    </tr>\n",
              "  </thead>\n",
              "  <tbody>\n",
              "    <tr>\n",
              "      <th>32</th>\n",
              "      <td>158</td>\n",
              "      <td>c</td>\n",
              "      <td>nw</td>\n",
              "      <td>0</td>\n",
              "    </tr>\n",
              "    <tr>\n",
              "      <th>69</th>\n",
              "      <td>106</td>\n",
              "      <td>c</td>\n",
              "      <td>w</td>\n",
              "      <td>2</td>\n",
              "    </tr>\n",
              "    <tr>\n",
              "      <th>14</th>\n",
              "      <td>147</td>\n",
              "      <td>c</td>\n",
              "      <td>nw</td>\n",
              "      <td>5</td>\n",
              "    </tr>\n",
              "    <tr>\n",
              "      <th>39</th>\n",
              "      <td>131</td>\n",
              "      <td>c</td>\n",
              "      <td>w</td>\n",
              "      <td>16</td>\n",
              "    </tr>\n",
              "    <tr>\n",
              "      <th>34</th>\n",
              "      <td>106</td>\n",
              "      <td>c</td>\n",
              "      <td>nw</td>\n",
              "      <td>51</td>\n",
              "    </tr>\n",
              "  </tbody>\n",
              "</table>\n",
              "</div>"
            ],
            "text/plain": [
              "    group_number condition role  number_blinks\n",
              "32           158         c   nw              0\n",
              "69           106         c    w              2\n",
              "14           147         c   nw              5\n",
              "39           131         c    w             16\n",
              "34           106         c   nw             51"
            ]
          },
          "metadata": {
            "tags": []
          },
          "execution_count": 3
        }
      ]
    },
    {
      "cell_type": "code",
      "metadata": {
        "id": "9NOP45w_nRpD"
      },
      "source": [
        "# exclude videos with problems\n",
        "df_batch1 = df_batch1.drop(df_batch1[np.logical_and(df_batch1.group_number==106, df_batch1.role=='w')].index)\n",
        "df_batch1 = df_batch1.drop(df_batch1[np.logical_and(df_batch1.group_number==120, df_batch1.role=='nw')].index)\n",
        "df_batch1 = df_batch1.drop(df_batch1[np.logical_and(df_batch1.group_number==123, df_batch1.role=='w')].index)\n",
        "df_batch1 = df_batch1.drop(df_batch1[np.logical_and(df_batch1.group_number==131, df_batch1.role=='w')].index)\n",
        "df_batch1 = df_batch1.drop(df_batch1[np.logical_and(df_batch1.group_number==137, df_batch1.role=='nw')].index)\n",
        "df_batch1 = df_batch1.drop(df_batch1[np.logical_and(df_batch1.group_number==147, df_batch1.role=='nw')].index)\n",
        "df_batch1 = df_batch1.drop(df_batch1[np.logical_and(df_batch1.group_number==156, df_batch1.role=='nw')].index)\n",
        "df_batch1 = df_batch1.drop(df_batch1[np.logical_and(df_batch1.group_number==158, df_batch1.role=='nw')].index)\n",
        "\n",
        "df_batch2 = df_batch2.drop(df_batch2[np.logical_and(df_batch2.group_number==219, df_batch2.role=='nw')].index)\n",
        "df_batch2 = df_batch2.drop(df_batch2[np.logical_and(df_batch2.group_number==173, df_batch2.role=='nw')].index)\n",
        "df_batch2 = df_batch2.drop(df_batch2[np.logical_and(df_batch2.group_number==194, df_batch2.role=='nw')].index)\n",
        "df_batch2 = df_batch2.drop(df_batch2[np.logical_and(df_batch2.group_number==215, df_batch2.role=='nw')].index)\n",
        "df_batch2 = df_batch2.drop(df_batch2[np.logical_and(df_batch2.group_number==211, df_batch2.role=='nw')].index)\n",
        "df_batch2 = df_batch2.drop(df_batch2[np.logical_and(df_batch2.group_number==212, df_batch2.role=='nw')].index)\n",
        "df_batch2 = df_batch2.drop(df_batch2[np.logical_and(df_batch2.group_number==181, df_batch2.role=='nw')].index)\n",
        "df_batch2 = df_batch2.drop(df_batch2[np.logical_and(df_batch2.group_number==172, df_batch2.role=='nw')].index)\n",
        "df_batch2 = df_batch2.drop(df_batch2[np.logical_and(df_batch2.group_number==206, df_batch2.role=='nw')].index)\n",
        "\n",
        "df_batch3 = df_batch3.drop(df_batch3[np.logical_and(df_batch3.group_number==257, df_batch3.role=='nw')].index)\n",
        "df_batch3 = df_batch3.drop(df_batch3[np.logical_and(df_batch3.group_number==277, df_batch3.role=='nw')].index)\n",
        "df_batch3 = df_batch3.drop(df_batch3[np.logical_and(df_batch3.group_number==276, df_batch3.role=='nw')].index)\n"
      ],
      "execution_count": 4,
      "outputs": []
    },
    {
      "cell_type": "code",
      "metadata": {
        "id": "NJ4jSOlsFjuo"
      },
      "source": [
        "# df_batch1 = df_batch1[df_batch1.number_blinks>=50]\n",
        "# df_batch1 = df_batch1[df_batch1.number_blinks<450]\n",
        "# df_batch2 = df_batch2[df_batch2.number_blinks>=50]\n",
        "# df_batch2 = df_batch2[df_batch2.number_blinks<450]\n",
        "# df_batch3 = df_batch3[df_batch3.number_blinks>=50]\n",
        "# df_batch3 = df_batch3[df_batch3.number_blinks<450]"
      ],
      "execution_count": 5,
      "outputs": []
    },
    {
      "cell_type": "markdown",
      "metadata": {
        "id": "EZuvVhihMkSa"
      },
      "source": [
        "## Merge Batches"
      ]
    },
    {
      "cell_type": "code",
      "metadata": {
        "id": "WOAVPpyMMmWv",
        "outputId": "b8cce2bf-2e98-4aaf-d83e-a5ed82666f90",
        "colab": {
          "base_uri": "https://localhost:8080/",
          "height": 142
        }
      },
      "source": [
        "df_merged = pd.concat([df_batch1, df_batch2, df_batch3])\n",
        "df_merged.groupby('condition')['number_blinks'].describe()"
      ],
      "execution_count": 6,
      "outputs": [
        {
          "output_type": "execute_result",
          "data": {
            "text/html": [
              "<div>\n",
              "<style scoped>\n",
              "    .dataframe tbody tr th:only-of-type {\n",
              "        vertical-align: middle;\n",
              "    }\n",
              "\n",
              "    .dataframe tbody tr th {\n",
              "        vertical-align: top;\n",
              "    }\n",
              "\n",
              "    .dataframe thead th {\n",
              "        text-align: right;\n",
              "    }\n",
              "</style>\n",
              "<table border=\"1\" class=\"dataframe\">\n",
              "  <thead>\n",
              "    <tr style=\"text-align: right;\">\n",
              "      <th></th>\n",
              "      <th>count</th>\n",
              "      <th>mean</th>\n",
              "      <th>std</th>\n",
              "      <th>min</th>\n",
              "      <th>25%</th>\n",
              "      <th>50%</th>\n",
              "      <th>75%</th>\n",
              "      <th>max</th>\n",
              "    </tr>\n",
              "    <tr>\n",
              "      <th>condition</th>\n",
              "      <th></th>\n",
              "      <th></th>\n",
              "      <th></th>\n",
              "      <th></th>\n",
              "      <th></th>\n",
              "      <th></th>\n",
              "      <th></th>\n",
              "      <th></th>\n",
              "    </tr>\n",
              "  </thead>\n",
              "  <tbody>\n",
              "    <tr>\n",
              "      <th>c</th>\n",
              "      <td>131.0</td>\n",
              "      <td>242.854962</td>\n",
              "      <td>109.505049</td>\n",
              "      <td>51.0</td>\n",
              "      <td>165.00</td>\n",
              "      <td>234.0</td>\n",
              "      <td>303.0</td>\n",
              "      <td>610.0</td>\n",
              "    </tr>\n",
              "    <tr>\n",
              "      <th>s</th>\n",
              "      <td>142.0</td>\n",
              "      <td>219.084507</td>\n",
              "      <td>116.142276</td>\n",
              "      <td>0.0</td>\n",
              "      <td>140.75</td>\n",
              "      <td>213.0</td>\n",
              "      <td>272.0</td>\n",
              "      <td>548.0</td>\n",
              "    </tr>\n",
              "  </tbody>\n",
              "</table>\n",
              "</div>"
            ],
            "text/plain": [
              "           count        mean         std   min     25%    50%    75%    max\n",
              "condition                                                                  \n",
              "c          131.0  242.854962  109.505049  51.0  165.00  234.0  303.0  610.0\n",
              "s          142.0  219.084507  116.142276   0.0  140.75  213.0  272.0  548.0"
            ]
          },
          "metadata": {
            "tags": []
          },
          "execution_count": 6
        }
      ]
    },
    {
      "cell_type": "code",
      "metadata": {
        "id": "goO_A4KE1Gw_",
        "outputId": "a5b956e7-5683-4c7f-a071-5f80fafb34dd",
        "colab": {
          "base_uri": "https://localhost:8080/",
          "height": 142
        }
      },
      "source": [
        "df_merged.groupby('role')['number_blinks'].describe()"
      ],
      "execution_count": 7,
      "outputs": [
        {
          "output_type": "execute_result",
          "data": {
            "text/html": [
              "<div>\n",
              "<style scoped>\n",
              "    .dataframe tbody tr th:only-of-type {\n",
              "        vertical-align: middle;\n",
              "    }\n",
              "\n",
              "    .dataframe tbody tr th {\n",
              "        vertical-align: top;\n",
              "    }\n",
              "\n",
              "    .dataframe thead th {\n",
              "        text-align: right;\n",
              "    }\n",
              "</style>\n",
              "<table border=\"1\" class=\"dataframe\">\n",
              "  <thead>\n",
              "    <tr style=\"text-align: right;\">\n",
              "      <th></th>\n",
              "      <th>count</th>\n",
              "      <th>mean</th>\n",
              "      <th>std</th>\n",
              "      <th>min</th>\n",
              "      <th>25%</th>\n",
              "      <th>50%</th>\n",
              "      <th>75%</th>\n",
              "      <th>max</th>\n",
              "    </tr>\n",
              "    <tr>\n",
              "      <th>role</th>\n",
              "      <th></th>\n",
              "      <th></th>\n",
              "      <th></th>\n",
              "      <th></th>\n",
              "      <th></th>\n",
              "      <th></th>\n",
              "      <th></th>\n",
              "      <th></th>\n",
              "    </tr>\n",
              "  </thead>\n",
              "  <tbody>\n",
              "    <tr>\n",
              "      <th>nw</th>\n",
              "      <td>129.0</td>\n",
              "      <td>218.736434</td>\n",
              "      <td>119.493365</td>\n",
              "      <td>0.0</td>\n",
              "      <td>122.00</td>\n",
              "      <td>209.0</td>\n",
              "      <td>292.0</td>\n",
              "      <td>530.0</td>\n",
              "    </tr>\n",
              "    <tr>\n",
              "      <th>w</th>\n",
              "      <td>144.0</td>\n",
              "      <td>241.020833</td>\n",
              "      <td>107.021694</td>\n",
              "      <td>1.0</td>\n",
              "      <td>168.75</td>\n",
              "      <td>231.5</td>\n",
              "      <td>287.0</td>\n",
              "      <td>610.0</td>\n",
              "    </tr>\n",
              "  </tbody>\n",
              "</table>\n",
              "</div>"
            ],
            "text/plain": [
              "      count        mean         std  min     25%    50%    75%    max\n",
              "role                                                                 \n",
              "nw    129.0  218.736434  119.493365  0.0  122.00  209.0  292.0  530.0\n",
              "w     144.0  241.020833  107.021694  1.0  168.75  231.5  287.0  610.0"
            ]
          },
          "metadata": {
            "tags": []
          },
          "execution_count": 7
        }
      ]
    },
    {
      "cell_type": "markdown",
      "metadata": {
        "id": "5hOc7_9I6LeU"
      },
      "source": [
        "## Metadata"
      ]
    },
    {
      "cell_type": "code",
      "metadata": {
        "id": "5lkSsAvk3864",
        "outputId": "dfdf2d4a-460e-4fc6-d256-aaa02a82f417",
        "colab": {
          "base_uri": "https://localhost:8080/",
          "height": 204
        }
      },
      "source": [
        "# load idea generation data\n",
        "df_idea = pd.read_csv(metadata_directory + 'study2_idea_generation.csv')\n",
        "df_idea.head()"
      ],
      "execution_count": 8,
      "outputs": [
        {
          "output_type": "execute_result",
          "data": {
            "text/html": [
              "<div>\n",
              "<style scoped>\n",
              "    .dataframe tbody tr th:only-of-type {\n",
              "        vertical-align: middle;\n",
              "    }\n",
              "\n",
              "    .dataframe tbody tr th {\n",
              "        vertical-align: top;\n",
              "    }\n",
              "\n",
              "    .dataframe thead th {\n",
              "        text-align: right;\n",
              "    }\n",
              "</style>\n",
              "<table border=\"1\" class=\"dataframe\">\n",
              "  <thead>\n",
              "    <tr style=\"text-align: right;\">\n",
              "      <th></th>\n",
              "      <th>Group.Number</th>\n",
              "      <th>cond</th>\n",
              "      <th>creative_count</th>\n",
              "      <th>idea_number</th>\n",
              "      <th>avg_creative</th>\n",
              "      <th>var_creative</th>\n",
              "      <th>avg_top_creative</th>\n",
              "    </tr>\n",
              "  </thead>\n",
              "  <tbody>\n",
              "    <tr>\n",
              "      <th>0</th>\n",
              "      <td>101</td>\n",
              "      <td>s</td>\n",
              "      <td>3</td>\n",
              "      <td>8</td>\n",
              "      <td>3.593750</td>\n",
              "      <td>0.915516</td>\n",
              "      <td>4.500000</td>\n",
              "    </tr>\n",
              "    <tr>\n",
              "      <th>1</th>\n",
              "      <td>105</td>\n",
              "      <td>s</td>\n",
              "      <td>6</td>\n",
              "      <td>12</td>\n",
              "      <td>3.500000</td>\n",
              "      <td>0.533002</td>\n",
              "      <td>3.916667</td>\n",
              "    </tr>\n",
              "    <tr>\n",
              "      <th>2</th>\n",
              "      <td>106</td>\n",
              "      <td>c</td>\n",
              "      <td>7</td>\n",
              "      <td>10</td>\n",
              "      <td>3.650000</td>\n",
              "      <td>0.647645</td>\n",
              "      <td>3.928571</td>\n",
              "    </tr>\n",
              "    <tr>\n",
              "      <th>3</th>\n",
              "      <td>107</td>\n",
              "      <td>c</td>\n",
              "      <td>5</td>\n",
              "      <td>14</td>\n",
              "      <td>3.464286</td>\n",
              "      <td>0.685405</td>\n",
              "      <td>4.250000</td>\n",
              "    </tr>\n",
              "    <tr>\n",
              "      <th>4</th>\n",
              "      <td>108</td>\n",
              "      <td>s</td>\n",
              "      <td>4</td>\n",
              "      <td>10</td>\n",
              "      <td>3.500000</td>\n",
              "      <td>0.623610</td>\n",
              "      <td>4.187500</td>\n",
              "    </tr>\n",
              "  </tbody>\n",
              "</table>\n",
              "</div>"
            ],
            "text/plain": [
              "   Group.Number cond  ...  var_creative  avg_top_creative\n",
              "0           101    s  ...      0.915516          4.500000\n",
              "1           105    s  ...      0.533002          3.916667\n",
              "2           106    c  ...      0.647645          3.928571\n",
              "3           107    c  ...      0.685405          4.250000\n",
              "4           108    s  ...      0.623610          4.187500\n",
              "\n",
              "[5 rows x 7 columns]"
            ]
          },
          "metadata": {
            "tags": []
          },
          "execution_count": 8
        }
      ]
    },
    {
      "cell_type": "code",
      "metadata": {
        "id": "xxYEfydL5smR",
        "outputId": "b360d766-2efd-4af5-b2cd-f5eb215cf356",
        "colab": {
          "base_uri": "https://localhost:8080/",
          "height": 224
        }
      },
      "source": [
        "# load survey data\n",
        "df_survey = pd.read_csv(metadata_directory + 'study2_survey_mean.csv')\n",
        "df_survey.head()"
      ],
      "execution_count": 9,
      "outputs": [
        {
          "output_type": "execute_result",
          "data": {
            "text/html": [
              "<div>\n",
              "<style scoped>\n",
              "    .dataframe tbody tr th:only-of-type {\n",
              "        vertical-align: middle;\n",
              "    }\n",
              "\n",
              "    .dataframe tbody tr th {\n",
              "        vertical-align: top;\n",
              "    }\n",
              "\n",
              "    .dataframe thead th {\n",
              "        text-align: right;\n",
              "    }\n",
              "</style>\n",
              "<table border=\"1\" class=\"dataframe\">\n",
              "  <thead>\n",
              "    <tr style=\"text-align: right;\">\n",
              "      <th></th>\n",
              "      <th>Group.Number</th>\n",
              "      <th>money_entrust</th>\n",
              "      <th>arousal</th>\n",
              "      <th>valence</th>\n",
              "      <th>dominant</th>\n",
              "      <th>diff1_t1</th>\n",
              "      <th>enjoy_t1</th>\n",
              "      <th>sat_t1</th>\n",
              "      <th>diff2_t1</th>\n",
              "      <th>diff1_t2</th>\n",
              "      <th>enjoy_t2</th>\n",
              "      <th>sat_t2</th>\n",
              "      <th>diff2_t2</th>\n",
              "      <th>tech</th>\n",
              "      <th>self_ext</th>\n",
              "      <th>self_agree</th>\n",
              "      <th>self_neuro</th>\n",
              "      <th>self_open</th>\n",
              "      <th>self_cons</th>\n",
              "      <th>part_ext</th>\n",
              "      <th>part_agree</th>\n",
              "      <th>part_neuro</th>\n",
              "      <th>part_open</th>\n",
              "      <th>part_cons</th>\n",
              "      <th>warm_mean</th>\n",
              "      <th>comp_mean</th>\n",
              "      <th>pri_mean</th>\n",
              "      <th>pub_mean</th>\n",
              "      <th>per_self_att</th>\n",
              "      <th>per_part_att</th>\n",
              "      <th>per_both_att</th>\n",
              "      <th>cond</th>\n",
              "    </tr>\n",
              "  </thead>\n",
              "  <tbody>\n",
              "    <tr>\n",
              "      <th>0</th>\n",
              "      <td>101</td>\n",
              "      <td>5.0</td>\n",
              "      <td>20.5</td>\n",
              "      <td>87.5</td>\n",
              "      <td>54.0</td>\n",
              "      <td>4.0</td>\n",
              "      <td>5.5</td>\n",
              "      <td>6.0</td>\n",
              "      <td>2.5</td>\n",
              "      <td>4.5</td>\n",
              "      <td>4.0</td>\n",
              "      <td>6.0</td>\n",
              "      <td>1.0</td>\n",
              "      <td>2.0</td>\n",
              "      <td>4.25</td>\n",
              "      <td>4.25</td>\n",
              "      <td>2.00</td>\n",
              "      <td>6.5</td>\n",
              "      <td>4.75</td>\n",
              "      <td>4.25</td>\n",
              "      <td>4.00</td>\n",
              "      <td>1.50</td>\n",
              "      <td>5.75</td>\n",
              "      <td>5.50</td>\n",
              "      <td>6.000</td>\n",
              "      <td>5.1</td>\n",
              "      <td>3.00</td>\n",
              "      <td>1.75</td>\n",
              "      <td>0.437500</td>\n",
              "      <td>0.375000</td>\n",
              "      <td>0.1875</td>\n",
              "      <td>S</td>\n",
              "    </tr>\n",
              "    <tr>\n",
              "      <th>1</th>\n",
              "      <td>105</td>\n",
              "      <td>10.0</td>\n",
              "      <td>54.5</td>\n",
              "      <td>78.5</td>\n",
              "      <td>50.5</td>\n",
              "      <td>5.5</td>\n",
              "      <td>5.0</td>\n",
              "      <td>4.5</td>\n",
              "      <td>4.5</td>\n",
              "      <td>5.5</td>\n",
              "      <td>4.5</td>\n",
              "      <td>4.5</td>\n",
              "      <td>4.0</td>\n",
              "      <td>3.5</td>\n",
              "      <td>4.50</td>\n",
              "      <td>4.50</td>\n",
              "      <td>3.25</td>\n",
              "      <td>4.0</td>\n",
              "      <td>5.75</td>\n",
              "      <td>4.25</td>\n",
              "      <td>3.75</td>\n",
              "      <td>2.25</td>\n",
              "      <td>4.50</td>\n",
              "      <td>5.25</td>\n",
              "      <td>6.250</td>\n",
              "      <td>5.2</td>\n",
              "      <td>3.00</td>\n",
              "      <td>2.75</td>\n",
              "      <td>0.416667</td>\n",
              "      <td>0.458333</td>\n",
              "      <td>0.1250</td>\n",
              "      <td>S</td>\n",
              "    </tr>\n",
              "    <tr>\n",
              "      <th>2</th>\n",
              "      <td>106</td>\n",
              "      <td>10.0</td>\n",
              "      <td>50.0</td>\n",
              "      <td>89.0</td>\n",
              "      <td>51.0</td>\n",
              "      <td>5.0</td>\n",
              "      <td>4.0</td>\n",
              "      <td>4.0</td>\n",
              "      <td>2.5</td>\n",
              "      <td>2.0</td>\n",
              "      <td>3.0</td>\n",
              "      <td>5.0</td>\n",
              "      <td>1.0</td>\n",
              "      <td>1.0</td>\n",
              "      <td>4.75</td>\n",
              "      <td>4.50</td>\n",
              "      <td>1.50</td>\n",
              "      <td>5.5</td>\n",
              "      <td>6.75</td>\n",
              "      <td>4.50</td>\n",
              "      <td>4.50</td>\n",
              "      <td>1.00</td>\n",
              "      <td>6.00</td>\n",
              "      <td>7.00</td>\n",
              "      <td>6.625</td>\n",
              "      <td>6.9</td>\n",
              "      <td>2.50</td>\n",
              "      <td>1.00</td>\n",
              "      <td>0.500000</td>\n",
              "      <td>0.500000</td>\n",
              "      <td>0.0000</td>\n",
              "      <td>T</td>\n",
              "    </tr>\n",
              "    <tr>\n",
              "      <th>3</th>\n",
              "      <td>107</td>\n",
              "      <td>5.0</td>\n",
              "      <td>26.0</td>\n",
              "      <td>68.5</td>\n",
              "      <td>54.5</td>\n",
              "      <td>4.5</td>\n",
              "      <td>5.5</td>\n",
              "      <td>4.5</td>\n",
              "      <td>3.0</td>\n",
              "      <td>3.5</td>\n",
              "      <td>3.5</td>\n",
              "      <td>4.5</td>\n",
              "      <td>2.0</td>\n",
              "      <td>4.0</td>\n",
              "      <td>4.50</td>\n",
              "      <td>5.25</td>\n",
              "      <td>5.00</td>\n",
              "      <td>5.0</td>\n",
              "      <td>5.25</td>\n",
              "      <td>4.00</td>\n",
              "      <td>4.25</td>\n",
              "      <td>2.50</td>\n",
              "      <td>5.00</td>\n",
              "      <td>5.75</td>\n",
              "      <td>5.500</td>\n",
              "      <td>5.1</td>\n",
              "      <td>2.25</td>\n",
              "      <td>1.50</td>\n",
              "      <td>0.000000</td>\n",
              "      <td>0.000000</td>\n",
              "      <td>1.0000</td>\n",
              "      <td>T</td>\n",
              "    </tr>\n",
              "    <tr>\n",
              "      <th>4</th>\n",
              "      <td>108</td>\n",
              "      <td>6.0</td>\n",
              "      <td>25.5</td>\n",
              "      <td>59.5</td>\n",
              "      <td>44.0</td>\n",
              "      <td>5.5</td>\n",
              "      <td>3.5</td>\n",
              "      <td>5.0</td>\n",
              "      <td>4.5</td>\n",
              "      <td>4.0</td>\n",
              "      <td>3.5</td>\n",
              "      <td>5.5</td>\n",
              "      <td>2.0</td>\n",
              "      <td>1.0</td>\n",
              "      <td>3.50</td>\n",
              "      <td>4.75</td>\n",
              "      <td>5.00</td>\n",
              "      <td>4.5</td>\n",
              "      <td>5.00</td>\n",
              "      <td>4.75</td>\n",
              "      <td>4.50</td>\n",
              "      <td>3.00</td>\n",
              "      <td>5.25</td>\n",
              "      <td>5.75</td>\n",
              "      <td>5.750</td>\n",
              "      <td>4.8</td>\n",
              "      <td>2.50</td>\n",
              "      <td>2.50</td>\n",
              "      <td>0.450000</td>\n",
              "      <td>0.450000</td>\n",
              "      <td>0.1000</td>\n",
              "      <td>S</td>\n",
              "    </tr>\n",
              "  </tbody>\n",
              "</table>\n",
              "</div>"
            ],
            "text/plain": [
              "   Group.Number  money_entrust  arousal  ...  per_part_att  per_both_att  cond\n",
              "0           101            5.0     20.5  ...      0.375000        0.1875     S\n",
              "1           105           10.0     54.5  ...      0.458333        0.1250     S\n",
              "2           106           10.0     50.0  ...      0.500000        0.0000     T\n",
              "3           107            5.0     26.0  ...      0.000000        1.0000     T\n",
              "4           108            6.0     25.5  ...      0.450000        0.1000     S\n",
              "\n",
              "[5 rows x 32 columns]"
            ]
          },
          "metadata": {
            "tags": []
          },
          "execution_count": 9
        }
      ]
    },
    {
      "cell_type": "code",
      "metadata": {
        "id": "nYt7oAsb5_DU",
        "outputId": "388c887e-1861-46d1-c656-49f7c929ec45",
        "colab": {
          "base_uri": "https://localhost:8080/",
          "height": 224
        }
      },
      "source": [
        "# merge blink data with metadata\n",
        "df_merged1 = df_merged.merge(df_idea, left_on='group_number', right_on='Group.Number', how='left')\n",
        "df_merged1 = df_merged1.merge(df_survey, left_on='group_number', right_on='Group.Number', how='left')\n",
        "df_merged1.head()"
      ],
      "execution_count": 10,
      "outputs": [
        {
          "output_type": "execute_result",
          "data": {
            "text/html": [
              "<div>\n",
              "<style scoped>\n",
              "    .dataframe tbody tr th:only-of-type {\n",
              "        vertical-align: middle;\n",
              "    }\n",
              "\n",
              "    .dataframe tbody tr th {\n",
              "        vertical-align: top;\n",
              "    }\n",
              "\n",
              "    .dataframe thead th {\n",
              "        text-align: right;\n",
              "    }\n",
              "</style>\n",
              "<table border=\"1\" class=\"dataframe\">\n",
              "  <thead>\n",
              "    <tr style=\"text-align: right;\">\n",
              "      <th></th>\n",
              "      <th>group_number</th>\n",
              "      <th>condition</th>\n",
              "      <th>role</th>\n",
              "      <th>number_blinks</th>\n",
              "      <th>Group.Number_x</th>\n",
              "      <th>cond_x</th>\n",
              "      <th>creative_count</th>\n",
              "      <th>idea_number</th>\n",
              "      <th>avg_creative</th>\n",
              "      <th>var_creative</th>\n",
              "      <th>avg_top_creative</th>\n",
              "      <th>Group.Number_y</th>\n",
              "      <th>money_entrust</th>\n",
              "      <th>arousal</th>\n",
              "      <th>valence</th>\n",
              "      <th>dominant</th>\n",
              "      <th>diff1_t1</th>\n",
              "      <th>enjoy_t1</th>\n",
              "      <th>sat_t1</th>\n",
              "      <th>diff2_t1</th>\n",
              "      <th>diff1_t2</th>\n",
              "      <th>enjoy_t2</th>\n",
              "      <th>sat_t2</th>\n",
              "      <th>diff2_t2</th>\n",
              "      <th>tech</th>\n",
              "      <th>self_ext</th>\n",
              "      <th>self_agree</th>\n",
              "      <th>self_neuro</th>\n",
              "      <th>self_open</th>\n",
              "      <th>self_cons</th>\n",
              "      <th>part_ext</th>\n",
              "      <th>part_agree</th>\n",
              "      <th>part_neuro</th>\n",
              "      <th>part_open</th>\n",
              "      <th>part_cons</th>\n",
              "      <th>warm_mean</th>\n",
              "      <th>comp_mean</th>\n",
              "      <th>pri_mean</th>\n",
              "      <th>pub_mean</th>\n",
              "      <th>per_self_att</th>\n",
              "      <th>per_part_att</th>\n",
              "      <th>per_both_att</th>\n",
              "      <th>cond_y</th>\n",
              "    </tr>\n",
              "  </thead>\n",
              "  <tbody>\n",
              "    <tr>\n",
              "      <th>0</th>\n",
              "      <td>101</td>\n",
              "      <td>s</td>\n",
              "      <td>nw</td>\n",
              "      <td>477</td>\n",
              "      <td>101</td>\n",
              "      <td>s</td>\n",
              "      <td>3</td>\n",
              "      <td>8</td>\n",
              "      <td>3.59375</td>\n",
              "      <td>0.915516</td>\n",
              "      <td>4.500000</td>\n",
              "      <td>101.0</td>\n",
              "      <td>5.0</td>\n",
              "      <td>20.5</td>\n",
              "      <td>87.5</td>\n",
              "      <td>54.0</td>\n",
              "      <td>4.0</td>\n",
              "      <td>5.5</td>\n",
              "      <td>6.0</td>\n",
              "      <td>2.5</td>\n",
              "      <td>4.5</td>\n",
              "      <td>4.0</td>\n",
              "      <td>6.0</td>\n",
              "      <td>1.0</td>\n",
              "      <td>2.0</td>\n",
              "      <td>4.25</td>\n",
              "      <td>4.25</td>\n",
              "      <td>2.00</td>\n",
              "      <td>6.5</td>\n",
              "      <td>4.75</td>\n",
              "      <td>4.25</td>\n",
              "      <td>4.00</td>\n",
              "      <td>1.50</td>\n",
              "      <td>5.75</td>\n",
              "      <td>5.50</td>\n",
              "      <td>6.000</td>\n",
              "      <td>5.1</td>\n",
              "      <td>3.0</td>\n",
              "      <td>1.75</td>\n",
              "      <td>0.437500</td>\n",
              "      <td>0.375000</td>\n",
              "      <td>0.1875</td>\n",
              "      <td>S</td>\n",
              "    </tr>\n",
              "    <tr>\n",
              "      <th>1</th>\n",
              "      <td>101</td>\n",
              "      <td>s</td>\n",
              "      <td>w</td>\n",
              "      <td>170</td>\n",
              "      <td>101</td>\n",
              "      <td>s</td>\n",
              "      <td>3</td>\n",
              "      <td>8</td>\n",
              "      <td>3.59375</td>\n",
              "      <td>0.915516</td>\n",
              "      <td>4.500000</td>\n",
              "      <td>101.0</td>\n",
              "      <td>5.0</td>\n",
              "      <td>20.5</td>\n",
              "      <td>87.5</td>\n",
              "      <td>54.0</td>\n",
              "      <td>4.0</td>\n",
              "      <td>5.5</td>\n",
              "      <td>6.0</td>\n",
              "      <td>2.5</td>\n",
              "      <td>4.5</td>\n",
              "      <td>4.0</td>\n",
              "      <td>6.0</td>\n",
              "      <td>1.0</td>\n",
              "      <td>2.0</td>\n",
              "      <td>4.25</td>\n",
              "      <td>4.25</td>\n",
              "      <td>2.00</td>\n",
              "      <td>6.5</td>\n",
              "      <td>4.75</td>\n",
              "      <td>4.25</td>\n",
              "      <td>4.00</td>\n",
              "      <td>1.50</td>\n",
              "      <td>5.75</td>\n",
              "      <td>5.50</td>\n",
              "      <td>6.000</td>\n",
              "      <td>5.1</td>\n",
              "      <td>3.0</td>\n",
              "      <td>1.75</td>\n",
              "      <td>0.437500</td>\n",
              "      <td>0.375000</td>\n",
              "      <td>0.1875</td>\n",
              "      <td>S</td>\n",
              "    </tr>\n",
              "    <tr>\n",
              "      <th>2</th>\n",
              "      <td>105</td>\n",
              "      <td>s</td>\n",
              "      <td>nw</td>\n",
              "      <td>173</td>\n",
              "      <td>105</td>\n",
              "      <td>s</td>\n",
              "      <td>6</td>\n",
              "      <td>12</td>\n",
              "      <td>3.50000</td>\n",
              "      <td>0.533002</td>\n",
              "      <td>3.916667</td>\n",
              "      <td>105.0</td>\n",
              "      <td>10.0</td>\n",
              "      <td>54.5</td>\n",
              "      <td>78.5</td>\n",
              "      <td>50.5</td>\n",
              "      <td>5.5</td>\n",
              "      <td>5.0</td>\n",
              "      <td>4.5</td>\n",
              "      <td>4.5</td>\n",
              "      <td>5.5</td>\n",
              "      <td>4.5</td>\n",
              "      <td>4.5</td>\n",
              "      <td>4.0</td>\n",
              "      <td>3.5</td>\n",
              "      <td>4.50</td>\n",
              "      <td>4.50</td>\n",
              "      <td>3.25</td>\n",
              "      <td>4.0</td>\n",
              "      <td>5.75</td>\n",
              "      <td>4.25</td>\n",
              "      <td>3.75</td>\n",
              "      <td>2.25</td>\n",
              "      <td>4.50</td>\n",
              "      <td>5.25</td>\n",
              "      <td>6.250</td>\n",
              "      <td>5.2</td>\n",
              "      <td>3.0</td>\n",
              "      <td>2.75</td>\n",
              "      <td>0.416667</td>\n",
              "      <td>0.458333</td>\n",
              "      <td>0.1250</td>\n",
              "      <td>S</td>\n",
              "    </tr>\n",
              "    <tr>\n",
              "      <th>3</th>\n",
              "      <td>105</td>\n",
              "      <td>s</td>\n",
              "      <td>w</td>\n",
              "      <td>162</td>\n",
              "      <td>105</td>\n",
              "      <td>s</td>\n",
              "      <td>6</td>\n",
              "      <td>12</td>\n",
              "      <td>3.50000</td>\n",
              "      <td>0.533002</td>\n",
              "      <td>3.916667</td>\n",
              "      <td>105.0</td>\n",
              "      <td>10.0</td>\n",
              "      <td>54.5</td>\n",
              "      <td>78.5</td>\n",
              "      <td>50.5</td>\n",
              "      <td>5.5</td>\n",
              "      <td>5.0</td>\n",
              "      <td>4.5</td>\n",
              "      <td>4.5</td>\n",
              "      <td>5.5</td>\n",
              "      <td>4.5</td>\n",
              "      <td>4.5</td>\n",
              "      <td>4.0</td>\n",
              "      <td>3.5</td>\n",
              "      <td>4.50</td>\n",
              "      <td>4.50</td>\n",
              "      <td>3.25</td>\n",
              "      <td>4.0</td>\n",
              "      <td>5.75</td>\n",
              "      <td>4.25</td>\n",
              "      <td>3.75</td>\n",
              "      <td>2.25</td>\n",
              "      <td>4.50</td>\n",
              "      <td>5.25</td>\n",
              "      <td>6.250</td>\n",
              "      <td>5.2</td>\n",
              "      <td>3.0</td>\n",
              "      <td>2.75</td>\n",
              "      <td>0.416667</td>\n",
              "      <td>0.458333</td>\n",
              "      <td>0.1250</td>\n",
              "      <td>S</td>\n",
              "    </tr>\n",
              "    <tr>\n",
              "      <th>4</th>\n",
              "      <td>106</td>\n",
              "      <td>c</td>\n",
              "      <td>nw</td>\n",
              "      <td>51</td>\n",
              "      <td>106</td>\n",
              "      <td>c</td>\n",
              "      <td>7</td>\n",
              "      <td>10</td>\n",
              "      <td>3.65000</td>\n",
              "      <td>0.647645</td>\n",
              "      <td>3.928571</td>\n",
              "      <td>106.0</td>\n",
              "      <td>10.0</td>\n",
              "      <td>50.0</td>\n",
              "      <td>89.0</td>\n",
              "      <td>51.0</td>\n",
              "      <td>5.0</td>\n",
              "      <td>4.0</td>\n",
              "      <td>4.0</td>\n",
              "      <td>2.5</td>\n",
              "      <td>2.0</td>\n",
              "      <td>3.0</td>\n",
              "      <td>5.0</td>\n",
              "      <td>1.0</td>\n",
              "      <td>1.0</td>\n",
              "      <td>4.75</td>\n",
              "      <td>4.50</td>\n",
              "      <td>1.50</td>\n",
              "      <td>5.5</td>\n",
              "      <td>6.75</td>\n",
              "      <td>4.50</td>\n",
              "      <td>4.50</td>\n",
              "      <td>1.00</td>\n",
              "      <td>6.00</td>\n",
              "      <td>7.00</td>\n",
              "      <td>6.625</td>\n",
              "      <td>6.9</td>\n",
              "      <td>2.5</td>\n",
              "      <td>1.00</td>\n",
              "      <td>0.500000</td>\n",
              "      <td>0.500000</td>\n",
              "      <td>0.0000</td>\n",
              "      <td>T</td>\n",
              "    </tr>\n",
              "  </tbody>\n",
              "</table>\n",
              "</div>"
            ],
            "text/plain": [
              "   group_number condition role  ...  per_part_att  per_both_att cond_y\n",
              "0           101         s   nw  ...      0.375000        0.1875      S\n",
              "1           101         s    w  ...      0.375000        0.1875      S\n",
              "2           105         s   nw  ...      0.458333        0.1250      S\n",
              "3           105         s    w  ...      0.458333        0.1250      S\n",
              "4           106         c   nw  ...      0.500000        0.0000      T\n",
              "\n",
              "[5 rows x 43 columns]"
            ]
          },
          "metadata": {
            "tags": []
          },
          "execution_count": 10
        }
      ]
    },
    {
      "cell_type": "code",
      "metadata": {
        "id": "VDehsazMBa-M",
        "outputId": "e9cff6f6-b46d-4fa3-efc8-5b07e37bed6d",
        "colab": {
          "base_uri": "https://localhost:8080/",
          "height": 282
        }
      },
      "source": [
        "df_merged1.number_blinks.hist()"
      ],
      "execution_count": 11,
      "outputs": [
        {
          "output_type": "execute_result",
          "data": {
            "text/plain": [
              "<matplotlib.axes._subplots.AxesSubplot at 0x7fa19b967400>"
            ]
          },
          "metadata": {
            "tags": []
          },
          "execution_count": 11
        },
        {
          "output_type": "display_data",
          "data": {
            "image/png": "[encoded data removed]",
            "text/plain": [
              "<Figure size 432x288 with 1 Axes>"
            ]
          },
          "metadata": {
            "tags": [],
            "needs_background": "light"
          }
        }
      ]
    },
    {
      "cell_type": "code",
      "metadata": {
        "id": "pCpJFUtk7yQq",
        "outputId": "8b65032b-38d3-44d9-bdd8-b5143cfd7a9a",
        "colab": {
          "base_uri": "https://localhost:8080/",
          "height": 297
        }
      },
      "source": [
        "df_merged1.plot(x='number_blinks',y='valence',kind='scatter')"
      ],
      "execution_count": 12,
      "outputs": [
        {
          "output_type": "execute_result",
          "data": {
            "text/plain": [
              "<matplotlib.axes._subplots.AxesSubplot at 0x7fa19b8a8668>"
            ]
          },
          "metadata": {
            "tags": []
          },
          "execution_count": 12
        },
        {
          "output_type": "display_data",
          "data": {
            "image/png": "[encoded data removed]",
            "text/plain": [
              "<Figure size 432x288 with 1 Axes>"
            ]
          },
          "metadata": {
            "tags": [],
            "needs_background": "light"
          }
        }
      ]
    },
    {
      "cell_type": "code",
      "metadata": {
        "id": "14ot8zGg8Mmz",
        "outputId": "96b1e334-a4b2-4cdb-affe-8a3c8c420b18",
        "colab": {
          "base_uri": "https://localhost:8080/",
          "height": 297
        }
      },
      "source": [
        "df_merged1.plot(x='number_blinks',y='arousal',kind='scatter')"
      ],
      "execution_count": 13,
      "outputs": [
        {
          "output_type": "execute_result",
          "data": {
            "text/plain": [
              "<matplotlib.axes._subplots.AxesSubplot at 0x7fa19cc9aef0>"
            ]
          },
          "metadata": {
            "tags": []
          },
          "execution_count": 13
        },
        {
          "output_type": "display_data",
          "data": {
            "image/png": "[encoded data removed]",
            "text/plain": [
              "<Figure size 432x288 with 1 Axes>"
            ]
          },
          "metadata": {
            "tags": [],
            "needs_background": "light"
          }
        }
      ]
    },
    {
      "cell_type": "code",
      "metadata": {
        "id": "6jFK6T-zr1oQ"
      },
      "source": [
        "# from sklearn import linear_model\n",
        "\n",
        "# # define the data/predictors as the pre-set feature names  \n",
        "# X = df_merged1[['number_blinks']]\n",
        "\n",
        "# # Put the target (housing value -- MEDV) in another DataFrame\n",
        "# y = df_merged1[['arousal']]\n",
        "\n",
        "# lm = linear_model.LinearRegression()\n",
        "# model = lm.fit(X,y)\n",
        "\n",
        "# predictions = lm.predict(X)\n",
        "\n",
        "# lm.score(X,y) # R^2\n"
      ],
      "execution_count": 14,
      "outputs": []
    },
    {
      "cell_type": "code",
      "metadata": {
        "id": "139BpecFsyZn",
        "outputId": "f099b754-319a-4e90-ef9a-fdc9da976b40",
        "colab": {
          "base_uri": "https://localhost:8080/",
          "height": 300
        }
      },
      "source": [
        "df_merged1.plot(x='number_blinks',y='avg_creative',kind='scatter')"
      ],
      "execution_count": 15,
      "outputs": [
        {
          "output_type": "execute_result",
          "data": {
            "text/plain": [
              "<matplotlib.axes._subplots.AxesSubplot at 0x7fa19b377c50>"
            ]
          },
          "metadata": {
            "tags": []
          },
          "execution_count": 15
        },
        {
          "output_type": "display_data",
          "data": {
            "image/png": "[encoded data removed]",
            "text/plain": [
              "<Figure size 432x288 with 1 Axes>"
            ]
          },
          "metadata": {
            "tags": [],
            "needs_background": "light"
          }
        }
      ]
    },
    {
      "cell_type": "code",
      "metadata": {
        "id": "N5wLOF5e-Xey",
        "outputId": "a7a6056f-ebcd-4b9d-8551-370821454770",
        "colab": {
          "base_uri": "https://localhost:8080/",
          "height": 297
        }
      },
      "source": [
        "df_merged1.plot(x='number_blinks',y='self_cons',kind='scatter')"
      ],
      "execution_count": 16,
      "outputs": [
        {
          "output_type": "execute_result",
          "data": {
            "text/plain": [
              "<matplotlib.axes._subplots.AxesSubplot at 0x7fa19b38f748>"
            ]
          },
          "metadata": {
            "tags": []
          },
          "execution_count": 16
        },
        {
          "output_type": "display_data",
          "data": {
            "image/png": "[encoded data removed]",
            "text/plain": [
              "<Figure size 432x288 with 1 Axes>"
            ]
          },
          "metadata": {
            "tags": [],
            "needs_background": "light"
          }
        }
      ]
    },
    {
      "cell_type": "code",
      "metadata": {
        "id": "t0v5l1Ja-Ylp",
        "outputId": "4e7fd7ed-bbf1-4d3c-a8f0-9489ff58463d",
        "colab": {
          "base_uri": "https://localhost:8080/",
          "height": 297
        }
      },
      "source": [
        "df_merged1.plot(x='number_blinks',y='part_cons',kind='scatter')"
      ],
      "execution_count": 17,
      "outputs": [
        {
          "output_type": "execute_result",
          "data": {
            "text/plain": [
              "<matplotlib.axes._subplots.AxesSubplot at 0x7fa19b287b70>"
            ]
          },
          "metadata": {
            "tags": []
          },
          "execution_count": 17
        },
        {
          "output_type": "display_data",
          "data": {
            "image/png": "[encoded data removed]",
            "text/plain": [
              "<Figure size 432x288 with 1 Axes>"
            ]
          },
          "metadata": {
            "tags": [],
            "needs_background": "light"
          }
        }
      ]
    },
    {
      "cell_type": "code",
      "metadata": {
        "id": "UPXqqjV6-Zvt",
        "outputId": "b855901c-9963-4eaa-8ad2-f4dbe21eeff2",
        "colab": {
          "base_uri": "https://localhost:8080/",
          "height": 297
        }
      },
      "source": [
        "df_merged1.plot(x='number_blinks',y='per_self_att',kind='scatter')"
      ],
      "execution_count": 18,
      "outputs": [
        {
          "output_type": "execute_result",
          "data": {
            "text/plain": [
              "<matplotlib.axes._subplots.AxesSubplot at 0x7fa19b23d278>"
            ]
          },
          "metadata": {
            "tags": []
          },
          "execution_count": 18
        },
        {
          "output_type": "display_data",
          "data": {
            "image/png": "[encoded data removed]",
            "text/plain": [
              "<Figure size 432x288 with 1 Axes>"
            ]
          },
          "metadata": {
            "tags": [],
            "needs_background": "light"
          }
        }
      ]
    },
    {
      "cell_type": "code",
      "metadata": {
        "id": "BJT4IopO-dWX",
        "outputId": "165d7b87-ba4c-4c37-abc0-6c957fa1fd65",
        "colab": {
          "base_uri": "https://localhost:8080/",
          "height": 297
        }
      },
      "source": [
        "df_merged1.plot(x='number_blinks',y='per_part_att',kind='scatter')"
      ],
      "execution_count": 19,
      "outputs": [
        {
          "output_type": "execute_result",
          "data": {
            "text/plain": [
              "<matplotlib.axes._subplots.AxesSubplot at 0x7fa19b2c12b0>"
            ]
          },
          "metadata": {
            "tags": []
          },
          "execution_count": 19
        },
        {
          "output_type": "display_data",
          "data": {
            "image/png": "[encoded data removed]",
            "text/plain": [
              "<Figure size 432x288 with 1 Axes>"
            ]
          },
          "metadata": {
            "tags": [],
            "needs_background": "light"
          }
        }
      ]
    },
    {
      "cell_type": "code",
      "metadata": {
        "id": "SyZjYvT--fCZ",
        "outputId": "3e75af7c-371c-4937-db58-825ce49be3de",
        "colab": {
          "base_uri": "https://localhost:8080/",
          "height": 297
        }
      },
      "source": [
        "df_merged1.plot(x='number_blinks',y='per_both_att',kind='scatter')"
      ],
      "execution_count": 20,
      "outputs": [
        {
          "output_type": "execute_result",
          "data": {
            "text/plain": [
              "<matplotlib.axes._subplots.AxesSubplot at 0x7fa19b1813c8>"
            ]
          },
          "metadata": {
            "tags": []
          },
          "execution_count": 20
        },
        {
          "output_type": "display_data",
          "data": {
            "image/png": "[encoded data removed]",
            "text/plain": [
              "<Figure size 432x288 with 1 Axes>"
            ]
          },
          "metadata": {
            "tags": [],
            "needs_background": "light"
          }
        }
      ]
    },
    {
      "cell_type": "code",
      "metadata": {
        "id": "LkoTqUC_-gTG"
      },
      "source": [
        ""
      ],
      "execution_count": 20,
      "outputs": []
    }
  ]
}